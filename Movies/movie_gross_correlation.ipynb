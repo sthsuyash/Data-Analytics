{
 "cells": [
  {
   "attachments": {},
   "cell_type": "markdown",
   "id": "073a7a37",
   "metadata": {},
   "source": [
    "# Movies Gross Correlation"
   ]
  },
  {
   "attachments": {},
   "cell_type": "markdown",
   "id": "e16cb19c",
   "metadata": {},
   "source": [
    "### This project focuses on finding out which fields are highly correlated to the gross revenue of the film."
   ]
  },
  {
   "attachments": {},
   "cell_type": "markdown",
   "id": "ef41c712",
   "metadata": {},
   "source": [
    "## Import libraries"
   ]
  },
  {
   "cell_type": "code",
   "execution_count": null,
   "id": "90d557f9",
   "metadata": {},
   "outputs": [],
   "source": [
    "from matplotlib.pyplot import figure\n",
    "import pandas as pd\n",
    "import seaborn as sns  # data visualization library based on matplotlib\n",
    "import numpy as np\n",
    "\n",
    "import matplotlib\n",
    "import matplotlib.pyplot as plt\n",
    "plt.style.use('ggplot')\n",
    "\n",
    "%matplotlib inline\n",
    "matplotlib.rcParams['figure.figsize'] = (12, 8)  # config of plots\n"
   ]
  },
  {
   "attachments": {},
   "cell_type": "markdown",
   "id": "179e9ab7",
   "metadata": {},
   "source": [
    "## Read the data"
   ]
  },
  {
   "cell_type": "code",
   "execution_count": null,
   "id": "e2c09caf",
   "metadata": {},
   "outputs": [],
   "source": [
    "df = pd.read_csv('movies.csv')\n"
   ]
  },
  {
   "attachments": {},
   "cell_type": "markdown",
   "id": "e26e42fd",
   "metadata": {},
   "source": [
    "## Go through the data"
   ]
  },
  {
   "cell_type": "code",
   "execution_count": null,
   "id": "11ebca1d",
   "metadata": {},
   "outputs": [],
   "source": [
    "print(df.shape)\n"
   ]
  },
  {
   "attachments": {},
   "cell_type": "markdown",
   "id": "78a72945",
   "metadata": {},
   "source": [
    "There are 7668 rows and 15 columns in the dataframe."
   ]
  },
  {
   "attachments": {},
   "cell_type": "markdown",
   "id": "d07e934f",
   "metadata": {},
   "source": [
    "Now, Read the first five data from the dataframe"
   ]
  },
  {
   "cell_type": "code",
   "execution_count": null,
   "id": "e434f0bb",
   "metadata": {},
   "outputs": [],
   "source": [
    "# df.head(60)\n",
    "df.head()\n"
   ]
  },
  {
   "attachments": {},
   "cell_type": "markdown",
   "id": "f1c7f776",
   "metadata": {},
   "source": [
    "## Cleaning the data"
   ]
  },
  {
   "attachments": {},
   "cell_type": "markdown",
   "id": "2f613a25",
   "metadata": {},
   "source": [
    "#### See if there is any missing data"
   ]
  },
  {
   "cell_type": "code",
   "execution_count": null,
   "id": "682f244b",
   "metadata": {},
   "outputs": [],
   "source": [
    "for col in df.columns:\n",
    "    missing_percent = np.mean(df[col].isnull()) * 100\n",
    "    print(f'{col} - {round(missing_percent, 2)}%')\n"
   ]
  },
  {
   "attachments": {},
   "cell_type": "markdown",
   "id": "9df955bd",
   "metadata": {},
   "source": [
    "#### Check the individual sum of all null values in the columns."
   ]
  },
  {
   "cell_type": "code",
   "execution_count": null,
   "id": "cdb65bdc",
   "metadata": {},
   "outputs": [],
   "source": [
    "df.isnull().sum()\n"
   ]
  },
  {
   "attachments": {},
   "cell_type": "markdown",
   "id": "cbbc833e",
   "metadata": {},
   "source": [
    "#### Drop the null value rows and assign it to the new dataframe"
   ]
  },
  {
   "cell_type": "code",
   "execution_count": null,
   "id": "172c6a24",
   "metadata": {},
   "outputs": [],
   "source": [
    "df2 = df.copy().dropna()\n"
   ]
  },
  {
   "attachments": {},
   "cell_type": "markdown",
   "id": "94316025",
   "metadata": {},
   "source": [
    "#### Check the data types for our columns"
   ]
  },
  {
   "cell_type": "code",
   "execution_count": null,
   "id": "49f6162c",
   "metadata": {},
   "outputs": [],
   "source": [
    "df2.dtypes\n"
   ]
  },
  {
   "attachments": {},
   "cell_type": "markdown",
   "id": "606b3f9e",
   "metadata": {},
   "source": [
    "We don't need the fractional values. So, change the datatype of the budget and gross columns to int."
   ]
  },
  {
   "cell_type": "code",
   "execution_count": null,
   "id": "22f37054",
   "metadata": {},
   "outputs": [],
   "source": [
    "df2['budget'] = df2['budget'].astype('int64')\n",
    "df2['gross'] = df2['gross'].astype('int64')\n"
   ]
  },
  {
   "attachments": {},
   "cell_type": "markdown",
   "id": "aad8ca1c",
   "metadata": {},
   "source": [
    "The year column and the release date year is not always matching."
   ]
  },
  {
   "attachments": {},
   "cell_type": "markdown",
   "id": "61cdb81a",
   "metadata": {},
   "source": [
    "So, take the year from the release date and create new column to store it"
   ]
  },
  {
   "cell_type": "code",
   "execution_count": null,
   "id": "39cf31ff",
   "metadata": {},
   "outputs": [],
   "source": [
    "df3 = df2.copy()\n",
    "\n",
    "# Extract only the year using regular expression for correct year column\n",
    "df3['yearcorrect'] = df3['released'].str.extract(r'(\\d{4})')\n",
    "\n",
    "print(df3['yearcorrect'], df3['year'])\n"
   ]
  },
  {
   "attachments": {},
   "cell_type": "markdown",
   "id": "4f46e348",
   "metadata": {},
   "source": [
    "Display the data sorted on gross value"
   ]
  },
  {
   "cell_type": "code",
   "execution_count": null,
   "id": "4e587314",
   "metadata": {},
   "outputs": [],
   "source": [
    "df3.sort_values(by=['gross'], inplace=False, ascending=False)\n"
   ]
  },
  {
   "attachments": {},
   "cell_type": "markdown",
   "id": "81e9d45a",
   "metadata": {},
   "source": [
    "Set option to display all the rows"
   ]
  },
  {
   "cell_type": "code",
   "execution_count": null,
   "id": "89838a66",
   "metadata": {},
   "outputs": [],
   "source": [
    "# pd.set_option('display.max_rows', None)\n"
   ]
  },
  {
   "attachments": {},
   "cell_type": "markdown",
   "id": "d4835c74",
   "metadata": {},
   "source": [
    "#### Drop any duplicates"
   ]
  },
  {
   "cell_type": "code",
   "execution_count": null,
   "id": "7a56cf63",
   "metadata": {},
   "outputs": [],
   "source": [
    "df3.drop_duplicates()\n"
   ]
  },
  {
   "attachments": {},
   "cell_type": "markdown",
   "id": "22e39237",
   "metadata": {},
   "source": [
    "Budget may have high correlation."
   ]
  },
  {
   "attachments": {},
   "cell_type": "markdown",
   "id": "938c33b6",
   "metadata": {},
   "source": [
    "Company profile too may have high correlation with gross."
   ]
  },
  {
   "attachments": {},
   "cell_type": "markdown",
   "id": "c332fa5d",
   "metadata": {},
   "source": [
    "## Scatter plot"
   ]
  },
  {
   "attachments": {},
   "cell_type": "markdown",
   "id": "4b600210",
   "metadata": {},
   "source": [
    "### Plot for budget vs gross"
   ]
  },
  {
   "cell_type": "code",
   "execution_count": null,
   "id": "a7e30cdb",
   "metadata": {},
   "outputs": [],
   "source": [
    "plt.scatter(x=df3['budget'], y=df3['gross'])\n",
    "plt.title('Budget vs Gross')\n",
    "plt.xlabel('Budget')\n",
    "plt.ylabel('Gross Earnings')\n",
    "\n",
    "plt.show()\n"
   ]
  },
  {
   "attachments": {},
   "cell_type": "markdown",
   "id": "08907332",
   "metadata": {},
   "source": [
    "### Plot budget vs gross using seaborn"
   ]
  },
  {
   "cell_type": "code",
   "execution_count": null,
   "id": "2e51668e",
   "metadata": {},
   "outputs": [],
   "source": [
    "# Plot the regression line\n",
    "sns.regplot(data=df3, y='gross', x='budget', scatter_kws={\n",
    "            \"color\": \"blue\"}, line_kws={\"color\": \"yellow\"})\n"
   ]
  },
  {
   "attachments": {},
   "cell_type": "markdown",
   "id": "1a5a8a88",
   "metadata": {},
   "source": [
    "## Looking at correlation"
   ]
  },
  {
   "attachments": {},
   "cell_type": "markdown",
   "id": "4aa6b4de",
   "metadata": {},
   "source": [
    "Default is Pearson"
   ]
  },
  {
   "attachments": {},
   "cell_type": "markdown",
   "id": "c617f77d",
   "metadata": {},
   "source": [
    "Kendall, Spearman"
   ]
  },
  {
   "cell_type": "code",
   "execution_count": null,
   "id": "0cf07aab",
   "metadata": {},
   "outputs": [],
   "source": [
    "df3.corr(numeric_only=True)\n",
    "# df3.corr(numeric_only=True, method='spearman')\n",
    "# df3.corr(numeric_only=True, method='kendall')\n"
   ]
  },
  {
   "attachments": {},
   "cell_type": "markdown",
   "id": "3727a5c7",
   "metadata": {},
   "source": [
    "High correlation between budget and gross"
   ]
  },
  {
   "cell_type": "code",
   "execution_count": null,
   "id": "3c1fff82",
   "metadata": {},
   "outputs": [],
   "source": [
    "correlation_matrix = df3.corr(numeric_only=True)\n",
    "sns.heatmap(correlation_matrix, annot=True)\n",
    "plt.title('Correlation matrix')\n",
    "plt.xlabel('Movies features')\n",
    "plt.ylabel('Movies features')\n",
    "plt.show()\n"
   ]
  },
  {
   "attachments": {},
   "cell_type": "markdown",
   "id": "ae29b36a",
   "metadata": {},
   "source": [
    "Now look at company"
   ]
  },
  {
   "cell_type": "code",
   "execution_count": null,
   "id": "12b897ee",
   "metadata": {},
   "outputs": [],
   "source": [
    "df.head()\n"
   ]
  },
  {
   "attachments": {},
   "cell_type": "markdown",
   "id": "f87be265",
   "metadata": {},
   "source": [
    "### Numerize the dataframe"
   ]
  },
  {
   "cell_type": "code",
   "execution_count": null,
   "id": "27e9285a",
   "metadata": {},
   "outputs": [],
   "source": [
    "df_numerized = df3\n",
    "\n",
    "for col in df_numerized.columns:\n",
    "    if df_numerized[col].dtype == 'object':\n",
    "        df_numerized[col] = df_numerized[col].astype('category')\n",
    "        df_numerized[col] = df_numerized[col].cat.codes  # give numeric codes\n",
    "\n",
    "print(df_numerized)\n"
   ]
  },
  {
   "attachments": {},
   "cell_type": "markdown",
   "id": "127a1fee",
   "metadata": {},
   "source": [
    "Now, since all the columns are numerized, again check the correlation matrix, which now contains all the columns"
   ]
  },
  {
   "cell_type": "code",
   "execution_count": null,
   "id": "2fc2bca1",
   "metadata": {},
   "outputs": [],
   "source": [
    "correlation_matrix = df3.corr(numeric_only=True)\n",
    "sns.heatmap(correlation_matrix, annot=True)\n",
    "plt.title('Correlation matrix')\n",
    "plt.xlabel('Movies features')\n",
    "plt.ylabel('Movies features')\n",
    "plt.show()\n"
   ]
  },
  {
   "cell_type": "code",
   "execution_count": null,
   "id": "3a8ffeda",
   "metadata": {},
   "outputs": [],
   "source": [
    "df_numerized.corr()\n"
   ]
  },
  {
   "attachments": {},
   "cell_type": "markdown",
   "id": "99e72d18",
   "metadata": {},
   "source": [
    "#### See the highest correlation quickly"
   ]
  },
  {
   "cell_type": "code",
   "execution_count": null,
   "id": "0724ad86",
   "metadata": {},
   "outputs": [],
   "source": [
    "pd.set_option('display.max_rows', None)\n",
    "correlation_matrix = df_numerized.corr()\n",
    "corr_pairs = correlation_matrix.unstack()\n",
    "print(corr_pairs)\n"
   ]
  },
  {
   "cell_type": "code",
   "execution_count": null,
   "id": "d2900c46",
   "metadata": {},
   "outputs": [],
   "source": [
    "sorted_pairs = corr_pairs.sort_values()\n",
    "print(sorted_pairs)\n"
   ]
  },
  {
   "cell_type": "code",
   "execution_count": null,
   "id": "3e00954b",
   "metadata": {},
   "outputs": [],
   "source": [
    "# Filter the Series to include only values within the desired range\n",
    "high_correlation = sorted_pairs[np.logical_and(\n",
    "    sorted_pairs > 0.5, sorted_pairs < 1)]\n",
    "\n",
    "# Exclude specific columns like 'year' and 'yearcorrect' from the filtered Series\n",
    "exclude_columns = ['year', 'yearcorrect']\n",
    "high_correlation = high_correlation.drop(exclude_columns)\n",
    "\n",
    "# Print the filtered Series\n",
    "print(high_correlation.sort_values(ascending=False))\n"
   ]
  },
  {
   "attachments": {},
   "cell_type": "markdown",
   "id": "c7d22a66",
   "metadata": {},
   "source": [
    "## Conclusion:\n",
    "### Votes and Budget have the highest correlation to gross earnings"
   ]
  }
 ],
 "metadata": {
  "kernelspec": {
   "display_name": "Python 3 (ipykernel)",
   "language": "python",
   "name": "python3"
  },
  "language_info": {
   "codemirror_mode": {
    "name": "ipython",
    "version": 3
   },
   "file_extension": ".py",
   "mimetype": "text/x-python",
   "name": "python",
   "nbconvert_exporter": "python",
   "pygments_lexer": "ipython3",
   "version": "3.10.9"
  }
 },
 "nbformat": 4,
 "nbformat_minor": 5
}
